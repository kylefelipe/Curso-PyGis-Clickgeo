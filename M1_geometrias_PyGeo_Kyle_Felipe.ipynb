{
  "nbformat": 4,
  "nbformat_minor": 0,
  "metadata": {
    "colab": {
      "provenance": [],
      "authorship_tag": "ABX9TyMJoR3fxtKb3TuBFMhQgYnS",
      "include_colab_link": true
    },
    "kernelspec": {
      "name": "python3",
      "display_name": "Python 3"
    },
    "language_info": {
      "name": "python"
    }
  },
  "cells": [
    {
      "cell_type": "markdown",
      "metadata": {
        "id": "view-in-github",
        "colab_type": "text"
      },
      "source": [
        "<a href=\"https://colab.research.google.com/github/kylefelipe/Curso-PyGis-Clickgeo/blob/main/M1_geometrias_PyGeo_Kyle_Felipe.ipynb\" target=\"_parent\"><img src=\"https://colab.research.google.com/assets/colab-badge.svg\" alt=\"Open In Colab\"/></a>"
      ]
    },
    {
      "cell_type": "code",
      "execution_count": 1,
      "metadata": {
        "colab": {
          "base_uri": "https://localhost:8080/"
        },
        "id": "SUbboaWyBVxR",
        "outputId": "3a859719-724a-47c4-84ec-bc5c28133e48"
      },
      "outputs": [
        {
          "output_type": "stream",
          "name": "stdout",
          "text": [
            "Looking in indexes: https://pypi.org/simple, https://us-python.pkg.dev/colab-wheels/public/simple/\n",
            "Requirement already satisfied: shapely in /usr/local/lib/python3.10/dist-packages (2.0.1)\n",
            "Requirement already satisfied: numpy>=1.14 in /usr/local/lib/python3.10/dist-packages (from shapely) (1.22.4)\n"
          ]
        }
      ],
      "source": [
        "!pip install shapely"
      ]
    },
    {
      "cell_type": "code",
      "source": [
        "from shapely.geometry import Point, LineString, Polygon"
      ],
      "metadata": {
        "id": "5-D9Af7_BhxE"
      },
      "execution_count": 2,
      "outputs": []
    },
    {
      "cell_type": "code",
      "source": [
        "p1 = Point(5.4, 3.0)\n",
        "p2 = Point(10, -7)\n",
        "p3 = Point(80, 25)\n",
        "p3d = Point(5.4, 3.0, 25)"
      ],
      "metadata": {
        "id": "OsQmGkV9BwDU"
      },
      "execution_count": 4,
      "outputs": []
    },
    {
      "cell_type": "code",
      "source": [
        "print(p1)\n",
        "print(p3d)\n",
        "print(type(p2))\n",
        "print(type(p3))"
      ],
      "metadata": {
        "colab": {
          "base_uri": "https://localhost:8080/"
        },
        "id": "-OsgxXS3CMIP",
        "outputId": "56dfa772-ddca-472d-95e2-60cc2af478b9"
      },
      "execution_count": 5,
      "outputs": [
        {
          "output_type": "stream",
          "name": "stdout",
          "text": [
            "POINT (5.4 3)\n",
            "POINT Z (5.4 3 25)\n",
            "<class 'shapely.geometry.point.Point'>\n",
            "<class 'shapely.geometry.point.Point'>\n"
          ]
        }
      ]
    },
    {
      "cell_type": "code",
      "source": [
        "p_coord = p1.coords\n",
        "p_coord"
      ],
      "metadata": {
        "colab": {
          "base_uri": "https://localhost:8080/"
        },
        "id": "qniXXR4PCV-W",
        "outputId": "981c650f-bc8a-409e-98f3-bb79c22198c8"
      },
      "execution_count": 8,
      "outputs": [
        {
          "output_type": "execute_result",
          "data": {
            "text/plain": [
              "<shapely.coords.CoordinateSequence at 0x7f0d94d5f040>"
            ]
          },
          "metadata": {},
          "execution_count": 8
        }
      ]
    },
    {
      "cell_type": "code",
      "source": [
        "type(p_coord)"
      ],
      "metadata": {
        "colab": {
          "base_uri": "https://localhost:8080/"
        },
        "id": "udEQjUmDDXoK",
        "outputId": "681f7fc0-4d74-4f5f-e48c-2698f3978d4c"
      },
      "execution_count": 10,
      "outputs": [
        {
          "output_type": "execute_result",
          "data": {
            "text/plain": [
              "shapely.coords.CoordinateSequence"
            ]
          },
          "metadata": {},
          "execution_count": 10
        }
      ]
    },
    {
      "cell_type": "code",
      "source": [
        "xy = p_coord.xy"
      ],
      "metadata": {
        "id": "stqCqOduDb0T"
      },
      "execution_count": 11,
      "outputs": []
    },
    {
      "cell_type": "code",
      "source": [
        "xy"
      ],
      "metadata": {
        "colab": {
          "base_uri": "https://localhost:8080/"
        },
        "id": "d4mPMpG1Divg",
        "outputId": "7af92641-31a4-4090-f680-126fa4712632"
      },
      "execution_count": 13,
      "outputs": [
        {
          "output_type": "execute_result",
          "data": {
            "text/plain": [
              "(array('d', [5.4]), array('d', [3.0]))"
            ]
          },
          "metadata": {},
          "execution_count": 13
        }
      ]
    },
    {
      "cell_type": "code",
      "source": [
        "x = p1.x\n",
        "y = p1.y\n",
        "print(xy)\n",
        "print(x)\n",
        "print(y)\n"
      ],
      "metadata": {
        "colab": {
          "base_uri": "https://localhost:8080/"
        },
        "id": "j03hnXLuDr3_",
        "outputId": "2c5a3b2b-9625-45fa-d4f5-9f20ab3942e1"
      },
      "execution_count": 16,
      "outputs": [
        {
          "output_type": "stream",
          "name": "stdout",
          "text": [
            "(array('d', [5.4]), array('d', [3.0]))\n",
            "5.4\n",
            "3.0\n"
          ]
        }
      ]
    },
    {
      "cell_type": "code",
      "source": [
        "# Distancia entre pontos\n",
        "p_dist = p1.distance(p2)\n",
        "print(\"A distância entre os pontos é de %s graus decimais.\"%(round(p_dist, 2)))"
      ],
      "metadata": {
        "colab": {
          "base_uri": "https://localhost:8080/"
        },
        "id": "55R6X7OEEIdz",
        "outputId": "88557400-15f9-4f59-d861-de9021b20862"
      },
      "execution_count": 24,
      "outputs": [
        {
          "output_type": "stream",
          "name": "stdout",
          "text": [
            "A distância entre os pontos é de 11.01 graus decimais.\n"
          ]
        }
      ]
    },
    {
      "cell_type": "code",
      "source": [
        "# Linhas\n",
        "\n",
        "linha = LineString([p1, p2, p3])\n",
        "linha2 = LineString([(5.4, 3.0) ,(10, -7), (80, 25)])"
      ],
      "metadata": {
        "id": "5mCblMfWFuol"
      },
      "execution_count": 25,
      "outputs": []
    },
    {
      "cell_type": "code",
      "source": [
        "print(linha)\n",
        "print(linha2)\n",
        "print(type(linha))"
      ],
      "metadata": {
        "colab": {
          "base_uri": "https://localhost:8080/"
        },
        "id": "vc-JovTLGUoV",
        "outputId": "5d2183d7-8405-4a2f-fa93-2c033e97e8d1"
      },
      "execution_count": 26,
      "outputs": [
        {
          "output_type": "stream",
          "name": "stdout",
          "text": [
            "LINESTRING (5.4 3, 10 -7, 80 25)\n",
            "LINESTRING (5.4 3, 10 -7, 80 25)\n",
            "<class 'shapely.geometry.linestring.LineString'>\n"
          ]
        }
      ]
    }
  ]
}